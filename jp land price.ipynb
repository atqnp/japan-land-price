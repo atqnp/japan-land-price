{
 "cells": [
  {
   "cell_type": "code",
   "execution_count": null,
   "metadata": {},
   "outputs": [],
   "source": [
    "#パケージをインポートします\n",
    "#geopandas というパケージをインストール必要がある\n",
    "#pip install geopandas\n",
    "import geopandas\n",
    "import pandas as pd\n",
    "\n",
    "#ここからはpandasとほぼ同じ\n",
    "df = geopandas.read_file(\"L01-18_12.shp\")\n",
    "#行名によってデータが見える\n",
    "df[[\"L01_023\"]]"
   ]
  },
  {
   "cell_type": "code",
   "execution_count": null,
   "metadata": {},
   "outputs": [],
   "source": [
    "#URLパースして表を取る\n",
    "#parsing url \n",
    "import requests\n",
    "import pandas as pd\n",
    "from bs4 import BeautifulSoup\n",
    "url = requests.get('http://nlftp.mlit.go.jp/ksj/gml/datalist/KsjTmplt-L01-v2_3.html')\n",
    "\n",
    "\n",
    "dist_list=[]\n",
    "soup = BeautifulSoup(url.content,'lxml')\n",
    "table = soup.find_all('table')\n",
    "rows = table[7].find_all('tr')\n",
    "#content\n",
    "for row in rows:\n",
    "    cols=row.find_all('td')\n",
    "    cols=[x.text.strip() for x in cols]\n",
    "    dist_list.append(cols)\n",
    "\n",
    "df_list = pd.DataFrame(dist_list)\n",
    "df_list"
   ]
  }
 ],
 "metadata": {
  "kernelspec": {
   "display_name": "Python 3",
   "language": "python",
   "name": "python3"
  },
  "language_info": {
   "codemirror_mode": {
    "name": "ipython",
    "version": 3
   },
   "file_extension": ".py",
   "mimetype": "text/x-python",
   "name": "python",
   "nbconvert_exporter": "python",
   "pygments_lexer": "ipython3",
   "version": "3.6.4"
  }
 },
 "nbformat": 4,
 "nbformat_minor": 2
}
